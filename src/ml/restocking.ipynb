{
 "cells": [
  {
   "metadata": {
    "ExecuteTime": {
     "end_time": "2025-04-19T16:48:37.860058Z",
     "start_time": "2025-04-19T16:48:37.852236Z"
    }
   },
   "cell_type": "code",
   "source": [
    "import pandas as pd\n",
    "import numpy as np\n",
    "from prophet import Prophet\n",
    "import seaborn as sns\n",
    "import matplotlib.pyplot as plt"
   ],
   "id": "ff15879c579ae21b",
   "outputs": [],
   "execution_count": 25
  },
  {
   "cell_type": "code",
   "id": "3ff08ac51dc7a162",
   "metadata": {
    "ExecuteTime": {
     "end_time": "2025-04-19T16:48:38.287344Z",
     "start_time": "2025-04-19T16:48:38.271230Z"
    }
   },
   "source": [
    "# 1. Build synthetic sales history\n",
    "def make_synthetic_sales(start_date=\"2023-01-01\", days=365, products=None, seed=42):\n",
    "    np.random.seed(seed)\n",
    "    if products is None:\n",
    "        products = [\"P01\", \"P02\", \"P03\"]\n",
    "    dates = pd.date_range(start=start_date, periods=days, freq=\"D\")\n",
    "    records = []\n",
    "    for pid in products:\n",
    "        base = np.random.uniform(20, 50)  # avg level\n",
    "        weekly = 10 * np.sin(2 * np.pi * dates.dayofweek / 7)  # weekly seasonality\n",
    "        noise = np.random.normal(0, 5, size=len(dates))  # gaussian noise\n",
    "        vals = pd.Series(base + weekly + noise, index=dates)  # combine\n",
    "        sales = vals.clip(lower=0).round().astype(int)  # no negatives\n",
    "        df = pd.DataFrame({\n",
    "            \"ds\": dates,\n",
    "            \"product_id\": pid,\n",
    "            \"y\": sales.values\n",
    "        })\n",
    "        records.append(df)\n",
    "    return pd.concat(records, ignore_index=True)\n",
    "\n",
    "\n",
    "sales = make_synthetic_sales()\n"
   ],
   "outputs": [],
   "execution_count": 26
  },
  {
   "metadata": {
    "ExecuteTime": {
     "end_time": "2025-04-19T16:48:40.232534Z",
     "start_time": "2025-04-19T16:48:39.669305Z"
    }
   },
   "cell_type": "code",
   "source": [
    "# 2. Forecast next 30 days per product & slice only that window\n",
    "forecast_horizon = 30\n",
    "all_fcsts = []\n",
    "for pid, grp in sales.groupby(\"product_id\"):\n",
    "    m = Prophet(yearly_seasonality=True,\n",
    "                weekly_seasonality=True,\n",
    "                daily_seasonality=False)\n",
    "    m.fit(grp[[\"ds\", \"y\"]])\n",
    "    future = m.make_future_dataframe(periods=forecast_horizon, freq=\"D\")\n",
    "    fcst   = m.predict(future)\n",
    "\n",
    "    # take only the last `forecast_horizon` days for this product\n",
    "    fcst_30 = (\n",
    "        fcst[[\"ds\", \"yhat\"]]\n",
    "        .iloc[-forecast_horizon:]\n",
    "        .copy()\n",
    "    )\n",
    "    fcst_30[\"product_id\"] = pid\n",
    "    all_fcsts.append(fcst_30)\n",
    "\n",
    "forecast_30d = pd.concat(all_fcsts, ignore_index=True)"
   ],
   "id": "3686a5b3c2cf8d19",
   "outputs": [
    {
     "name": "stderr",
     "output_type": "stream",
     "text": [
      "22:18:39 - cmdstanpy - INFO - Chain [1] start processing\n",
      "22:18:39 - cmdstanpy - INFO - Chain [1] done processing\n",
      "22:18:39 - cmdstanpy - INFO - Chain [1] start processing\n",
      "22:18:39 - cmdstanpy - INFO - Chain [1] done processing\n",
      "22:18:40 - cmdstanpy - INFO - Chain [1] start processing\n",
      "22:18:40 - cmdstanpy - INFO - Chain [1] done processing\n"
     ]
    }
   ],
   "execution_count": 27
  },
  {
   "metadata": {
    "ExecuteTime": {
     "end_time": "2025-04-19T16:48:40.771737Z",
     "start_time": "2025-04-19T16:48:40.767840Z"
    }
   },
   "cell_type": "code",
   "source": [
    "# 3. Generate synthetic inventory data\n",
    "inv = pd.DataFrame({\n",
    "    \"product_id\": sales[\"product_id\"].unique(),\n",
    "    \"current_stock\": np.random.randint(30, 80, size=len(sales[\"product_id\"].unique())),\n",
    "    \"safety_stock\":  np.random.randint(10, 25, size=len(sales[\"product_id\"].unique()))\n",
    "})"
   ],
   "id": "5ddeea26e37e263",
   "outputs": [],
   "execution_count": 28
  },
  {
   "metadata": {
    "ExecuteTime": {
     "end_time": "2025-04-19T16:48:41.269239Z",
     "start_time": "2025-04-19T16:48:41.261372Z"
    }
   },
   "cell_type": "code",
   "source": [
    "# 4. Compute suggested restock quantities\n",
    "restock = (\n",
    "    forecast_30d\n",
    "    .groupby(\"product_id\")[\"yhat\"]\n",
    "    .sum()\n",
    "    .reset_index()\n",
    "    .rename(columns={\"yhat\": \"forecasted_demand_30d\"})\n",
    ")\n",
    "restock = restock.merge(inv, on=\"product_id\", how=\"left\")\n",
    "restock[\"suggested_restock\"] = (\n",
    "    restock[\"forecasted_demand_30d\"]\n",
    "    - (restock[\"current_stock\"] - restock[\"safety_stock\"])\n",
    ").clip(lower=0).astype(str)"
   ],
   "id": "56a31330eff114cf",
   "outputs": [],
   "execution_count": 29
  },
  {
   "metadata": {
    "ExecuteTime": {
     "end_time": "2025-04-19T16:48:42.404120Z",
     "start_time": "2025-04-19T16:48:42.396985Z"
    }
   },
   "cell_type": "code",
   "source": [
    "# 5. Save or inspect\n",
    "restock.to_csv(\"restock_suggestions.csv\", index=False)\n",
    "print(restock)\n"
   ],
   "id": "initial_id",
   "outputs": [
    {
     "name": "stdout",
     "output_type": "stream",
     "text": [
      "  product_id  forecasted_demand_30d  current_stock  safety_stock  \\\n",
      "0        P01            1008.318286             74            18   \n",
      "1        P02             657.993924             40            22   \n",
      "2        P03             819.332719             57            19   \n",
      "\n",
      "   suggested_restock  \n",
      "0  952.3182858351456  \n",
      "1  639.9939240463035  \n",
      "2  781.3327190382217  \n"
     ]
    }
   ],
   "execution_count": 30
  },
  {
   "metadata": {
    "ExecuteTime": {
     "end_time": "2025-04-19T16:48:43.322405Z",
     "start_time": "2025-04-19T16:48:43.233461Z"
    }
   },
   "cell_type": "code",
   "source": [
    "\n",
    "# 6. Plot with Seaborn (no warning)\n",
    "sns.set(style=\"whitegrid\")\n",
    "plt.figure(figsize=(6, 4))\n",
    "ax = sns.barplot(\n",
    "    data=restock,\n",
    "    x=\"product_id\",\n",
    "    y=\"suggested_restock\",\n",
    "    hue=\"product_id\",\n",
    "    palette=\"viridis\",\n",
    "    dodge=False\n",
    ")\n",
    "# ax.legend_.remove()\n",
    "ax.set_title(\"Suggested Restock Qty (next 30 days)\")\n",
    "ax.set_xlabel(\"Product ID\")\n",
    "ax.set_ylabel(\"Qty to Reorder\")\n",
    "\n",
    "for p in ax.patches:\n",
    "    ax.annotate(\n",
    "        f\"{int(p.get_height())}\",\n",
    "        (p.get_x() + p.get_width() / 2, p.get_height()),\n",
    "        ha=\"center\", va=\"bottom\"\n",
    "    )\n",
    "\n",
    "plt.tight_layout()\n",
    "plt.show()"
   ],
   "id": "dda01713a2ce79c7",
   "outputs": [
    {
     "data": {
      "text/plain": [
       "<Figure size 600x400 with 1 Axes>"
      ],
      "image/png": "[encoded data removed]"
     },
     "metadata": {},
     "output_type": "display_data"
    }
   ],
   "execution_count": 31
  }
 ],
 "metadata": {
  "kernelspec": {
   "display_name": "Python 3",
   "language": "python",
   "name": "python3"
  },
  "language_info": {
   "codemirror_mode": {
    "name": "ipython",
    "version": 2
   },
   "file_extension": ".py",
   "mimetype": "text/x-python",
   "name": "python",
   "nbconvert_exporter": "python",
   "pygments_lexer": "ipython2",
   "version": "2.7.6"
  }
 },
 "nbformat": 4,
 "nbformat_minor": 5
}
